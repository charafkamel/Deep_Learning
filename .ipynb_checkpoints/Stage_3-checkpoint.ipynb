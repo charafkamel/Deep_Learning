{
 "cells": [
  {
   "cell_type": "code",
   "execution_count": 1,
   "id": "bf6c6256-6d6f-4341-9cd2-3ef73cd33ef7",
   "metadata": {},
   "outputs": [
    {
     "data": {
      "application/vnd.jupyter.widget-view+json": {
       "model_id": "e58052ccc2614075aa1454f59e538601",
       "version_major": 2,
       "version_minor": 0
      },
      "text/plain": [
       "tokenizer_config.json:   0%|          | 0.00/174 [00:00<?, ?B/s]"
      ]
     },
     "metadata": {},
     "output_type": "display_data"
    },
    {
     "data": {
      "application/vnd.jupyter.widget-view+json": {
       "model_id": "89e38560db654e3c8174fc5eca771a0d",
       "version_major": 2,
       "version_minor": 0
      },
      "text/plain": [
       "config.json:   0%|          | 0.00/811 [00:00<?, ?B/s]"
      ]
     },
     "metadata": {},
     "output_type": "display_data"
    },
    {
     "data": {
      "application/vnd.jupyter.widget-view+json": {
       "model_id": "241ebe246d6e4c87b7892b27b1121385",
       "version_major": 2,
       "version_minor": 0
      },
      "text/plain": [
       "vocab.txt:   0%|          | 0.00/232k [00:00<?, ?B/s]"
      ]
     },
     "metadata": {},
     "output_type": "display_data"
    },
    {
     "data": {
      "application/vnd.jupyter.widget-view+json": {
       "model_id": "6fa237f4edd7474a8e4835bb85341d32",
       "version_major": 2,
       "version_minor": 0
      },
      "text/plain": [
       "special_tokens_map.json:   0%|          | 0.00/112 [00:00<?, ?B/s]"
      ]
     },
     "metadata": {},
     "output_type": "display_data"
    },
    {
     "data": {
      "application/vnd.jupyter.widget-view+json": {
       "model_id": "e75df9f0a50e4c8c8048bc9127599057",
       "version_major": 2,
       "version_minor": 0
      },
      "text/plain": [
       "model.safetensors:   0%|          | 0.00/438M [00:00<?, ?B/s]"
      ]
     },
     "metadata": {},
     "output_type": "display_data"
    },
    {
     "name": "stdout",
     "output_type": "stream",
     "text": [
      "Toxicity: 0.08 | \"I hope you have a great day!\"\n",
      "Toxicity: 0.00 | \"You're an idiot and no one likes you.\"\n",
      "Toxicity: 0.09 | \"I love how you think.\"\n",
      "Toxicity: 0.00 | \"Shut up, you're the worst.\"\n"
     ]
    }
   ],
   "source": [
    "from transformers import AutoTokenizer, AutoModelForSequenceClassification\n",
    "import torch\n",
    "import torch.nn.functional as F\n",
    "\n",
    "# Load tokenizer and model\n",
    "model_name = \"unitary/toxic-bert\"\n",
    "tokenizer = AutoTokenizer.from_pretrained(model_name)\n",
    "model = AutoModelForSequenceClassification.from_pretrained(model_name)\n",
    "\n",
    "def get_toxicity_scores(sentences):\n",
    "    inputs = tokenizer(sentences, padding=True, truncation=True, return_tensors=\"pt\")\n",
    "    with torch.no_grad():\n",
    "        outputs = model(**inputs)\n",
    "        scores = F.softmax(outputs.logits, dim=1)  # Convert logits to probabilities\n",
    "        toxic_probs = scores[:, 1].tolist()  # Probability of the \"toxic\" class\n",
    "    return toxic_probs\n",
    "\n",
    "# Example\n",
    "sentences = [\n",
    "    \"I hope you have a great day!\",\n",
    "    \"You're an idiot and no one likes you.\",\n",
    "    \"I love how you think.\",\n",
    "    \"Shut up, you're the worst.\"\n",
    "]\n",
    "\n",
    "scores = get_toxicity_scores(sentences)\n",
    "for sent, score in zip(sentences, scores):\n",
    "    print(f\"Toxicity: {score:.2f} | \\\"{sent}\\\"\")"
   ]
  },
  {
   "cell_type": "code",
   "execution_count": 2,
   "id": "4149397a-8a08-45d4-832e-913db42b46e2",
   "metadata": {},
   "outputs": [
    {
     "name": "stdout",
     "output_type": "stream",
     "text": [
      "{0: 'toxic', 1: 'severe_toxic', 2: 'obscene', 3: 'threat', 4: 'insult', 5: 'identity_hate'}\n"
     ]
    }
   ],
   "source": [
    "from transformers import AutoConfig\n",
    "\n",
    "config = AutoConfig.from_pretrained(\"unitary/toxic-bert\")\n",
    "print(config.id2label)"
   ]
  },
  {
   "cell_type": "code",
   "execution_count": 3,
   "id": "2700c2a9-235a-4733-b765-70ae87bf5aa7",
   "metadata": {},
   "outputs": [
    {
     "name": "stdout",
     "output_type": "stream",
     "text": [
      "\n",
      "\"I hope you have a great day!\"\n",
      "\n",
      "\"You're an idiot and no one likes you.\"\n",
      "  → toxic: 0.99\n",
      "  → obscene: 0.73\n",
      "  → insult: 0.95\n",
      "\n",
      "\"I love how you think.\"\n",
      "\n",
      "\"Shut up, you're the worst.\"\n",
      "  → toxic: 0.98\n",
      "  → insult: 0.82\n"
     ]
    }
   ],
   "source": [
    "from transformers import AutoTokenizer, AutoModelForSequenceClassification\n",
    "import torch\n",
    "import torch.nn.functional as F\n",
    "\n",
    "model_name = \"unitary/toxic-bert\"\n",
    "tokenizer = AutoTokenizer.from_pretrained(model_name)\n",
    "model = AutoModelForSequenceClassification.from_pretrained(model_name)\n",
    "\n",
    "labels = [\n",
    "    \"toxic\", \"severe_toxic\", \"obscene\",\n",
    "    \"threat\", \"insult\", \"identity_hate\"\n",
    "]\n",
    "\n",
    "def get_toxicity_scores(sentences):\n",
    "    inputs = tokenizer(sentences, padding=True, truncation=True, return_tensors=\"pt\")\n",
    "    with torch.no_grad():\n",
    "        outputs = model(**inputs)\n",
    "        probs = torch.sigmoid(outputs.logits)  # Sigmoid for multi-label classification\n",
    "        return probs.tolist()\n",
    "\n",
    "# Example usage\n",
    "sentences = [\n",
    "    \"I hope you have a great day!\",\n",
    "    \"You're an idiot and no one likes you.\",\n",
    "    \"I love how you think.\",\n",
    "    \"Shut up, you're the worst.\"\n",
    "]\n",
    "\n",
    "scores = get_toxicity_scores(sentences)\n",
    "\n",
    "for sent, score_vec in zip(sentences, scores):\n",
    "    print(f\"\\n\\\"{sent}\\\"\")\n",
    "    for label, score in zip(labels, score_vec):\n",
    "        if score > 0.3:  # You can adjust threshold\n",
    "            print(f\"  → {label}: {score:.2f}\")"
   ]
  },
  {
   "cell_type": "code",
   "execution_count": null,
   "id": "68f290f7-94a4-48ff-804b-2ebffb10b93d",
   "metadata": {},
   "outputs": [],
   "source": []
  }
 ],
 "metadata": {
  "kernelspec": {
   "display_name": "Python (paradetox)",
   "language": "python",
   "name": "paradetox"
  },
  "language_info": {
   "codemirror_mode": {
    "name": "ipython",
    "version": 3
   },
   "file_extension": ".py",
   "mimetype": "text/x-python",
   "name": "python",
   "nbconvert_exporter": "python",
   "pygments_lexer": "ipython3",
   "version": "3.10.16"
  }
 },
 "nbformat": 4,
 "nbformat_minor": 5
}
