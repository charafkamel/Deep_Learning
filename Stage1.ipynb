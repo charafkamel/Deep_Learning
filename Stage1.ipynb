{
 "cells": [
  {
   "cell_type": "code",
   "execution_count": 3,
   "id": "f10d632a",
   "metadata": {},
   "outputs": [
    {
     "name": "stderr",
     "output_type": "stream",
     "text": [
      "/home/charaf/.local/lib/python3.10/site-packages/tqdm/auto.py:21: TqdmWarning: IProgress not found. Please update jupyter and ipywidgets. See https://ipywidgets.readthedocs.io/en/stable/user_install.html\n",
      "  from .autonotebook import tqdm as notebook_tqdm\n"
     ]
    }
   ],
   "source": [
    "import transformers\n",
    "import torch\n",
    "import pandas as pd\n",
    "import os"
   ]
  },
  {
   "cell_type": "code",
   "execution_count": 4,
   "id": "02036372",
   "metadata": {},
   "outputs": [
    {
     "name": "stdout",
     "output_type": "stream",
     "text": [
      "/home/charaf/DeepLearning/Project/Deep_Learning\n"
     ]
    }
   ],
   "source": [
    "print(os.getcwd())"
   ]
  },
  {
   "cell_type": "code",
   "execution_count": 5,
   "id": "954254a8",
   "metadata": {},
   "outputs": [
    {
     "data": {
      "text/html": [
       "<div>\n",
       "<style scoped>\n",
       "    .dataframe tbody tr th:only-of-type {\n",
       "        vertical-align: middle;\n",
       "    }\n",
       "\n",
       "    .dataframe tbody tr th {\n",
       "        vertical-align: top;\n",
       "    }\n",
       "\n",
       "    .dataframe thead th {\n",
       "        text-align: right;\n",
       "    }\n",
       "</style>\n",
       "<table border=\"1\" class=\"dataframe\">\n",
       "  <thead>\n",
       "    <tr style=\"text-align: right;\">\n",
       "      <th></th>\n",
       "      <th>toxic</th>\n",
       "      <th>neutral1</th>\n",
       "      <th>neutral2</th>\n",
       "      <th>neutral3</th>\n",
       "    </tr>\n",
       "  </thead>\n",
       "  <tbody>\n",
       "    <tr>\n",
       "      <th>0</th>\n",
       "      <td>he had steel balls too !</td>\n",
       "      <td>he was brave too!</td>\n",
       "      <td>NaN</td>\n",
       "      <td>NaN</td>\n",
       "    </tr>\n",
       "    <tr>\n",
       "      <th>1</th>\n",
       "      <td>dude should have been taken to api , he would ...</td>\n",
       "      <td>It would have been good if he went to api. He ...</td>\n",
       "      <td>NaN</td>\n",
       "      <td>NaN</td>\n",
       "    </tr>\n",
       "    <tr>\n",
       "      <th>2</th>\n",
       "      <td>im not gonna sell the fucking picture , i just...</td>\n",
       "      <td>I'm not gonna sell the picture, i just want to...</td>\n",
       "      <td>NaN</td>\n",
       "      <td>NaN</td>\n",
       "    </tr>\n",
       "    <tr>\n",
       "      <th>3</th>\n",
       "      <td>the garbage that is being created by cnn and o...</td>\n",
       "      <td>the news that is being created by cnn and othe...</td>\n",
       "      <td>The news that is being created by cnn and othe...</td>\n",
       "      <td>the garbage that is being created by cnn and o...</td>\n",
       "    </tr>\n",
       "    <tr>\n",
       "      <th>4</th>\n",
       "      <td>the reason they dont exist is because neither ...</td>\n",
       "      <td>The reason they don't exist is because neither...</td>\n",
       "      <td>NaN</td>\n",
       "      <td>NaN</td>\n",
       "    </tr>\n",
       "  </tbody>\n",
       "</table>\n",
       "</div>"
      ],
      "text/plain": [
       "                                               toxic  \\\n",
       "0                           he had steel balls too !   \n",
       "1  dude should have been taken to api , he would ...   \n",
       "2  im not gonna sell the fucking picture , i just...   \n",
       "3  the garbage that is being created by cnn and o...   \n",
       "4  the reason they dont exist is because neither ...   \n",
       "\n",
       "                                            neutral1  \\\n",
       "0                                  he was brave too!   \n",
       "1  It would have been good if he went to api. He ...   \n",
       "2  I'm not gonna sell the picture, i just want to...   \n",
       "3  the news that is being created by cnn and othe...   \n",
       "4  The reason they don't exist is because neither...   \n",
       "\n",
       "                                            neutral2  \\\n",
       "0                                                NaN   \n",
       "1                                                NaN   \n",
       "2                                                NaN   \n",
       "3  The news that is being created by cnn and othe...   \n",
       "4                                                NaN   \n",
       "\n",
       "                                            neutral3  \n",
       "0                                                NaN  \n",
       "1                                                NaN  \n",
       "2                                                NaN  \n",
       "3  the garbage that is being created by cnn and o...  \n",
       "4                                                NaN  "
      ]
     },
     "execution_count": 5,
     "metadata": {},
     "output_type": "execute_result"
    }
   ],
   "source": [
    "## Read data/paradox.tsv file as pandas dataframe\n",
    "current_dir = os.getcwd()\n",
    "data_dir = os.path.join(current_dir, 'data')\n",
    "df = pd.read_csv(data_dir +'/paradetox.tsv', sep='\\t')\n",
    "df.head(5)\n"
   ]
  },
  {
   "cell_type": "markdown",
   "id": "72a77667",
   "metadata": {},
   "source": [
    "### Kept for every toxic sentence just one non-toxic"
   ]
  },
  {
   "cell_type": "code",
   "execution_count": 7,
   "id": "deb9cb23",
   "metadata": {},
   "outputs": [
    {
     "data": {
      "text/plain": [
       "toxic           0\n",
       "neutral1        0\n",
       "neutral2     5973\n",
       "neutral3    10065\n",
       "dtype: int64"
      ]
     },
     "execution_count": 7,
     "metadata": {},
     "output_type": "execute_result"
    }
   ],
   "source": [
    "## get NaN values per column\n",
    "df.isna().sum()"
   ]
  },
  {
   "cell_type": "code",
   "execution_count": 8,
   "id": "d385d5d9",
   "metadata": {},
   "outputs": [],
   "source": [
    "## rename neutral1 column to neutral\n",
    "df.rename(columns={'neutral1': 'neutral'}, inplace=True)"
   ]
  },
  {
   "cell_type": "code",
   "execution_count": 9,
   "id": "1d941fcc",
   "metadata": {},
   "outputs": [],
   "source": [
    "filtered_df = df[[\"toxic\", \"neutral\"]]"
   ]
  },
  {
   "cell_type": "code",
   "execution_count": 10,
   "id": "40670624",
   "metadata": {},
   "outputs": [],
   "source": [
    "df_dict = filtered_df.to_dict(orient=\"records\")"
   ]
  },
  {
   "cell_type": "code",
   "execution_count": 11,
   "id": "38e36991",
   "metadata": {},
   "outputs": [],
   "source": [
    "from datasets import load_dataset, Dataset\n",
    "from transformers import T5ForConditionalGeneration, T5Tokenizer, Trainer, TrainingArguments"
   ]
  },
  {
   "cell_type": "code",
   "execution_count": 12,
   "id": "1fb3c712",
   "metadata": {},
   "outputs": [],
   "source": [
    "from transformers import AutoTokenizer, AutoModelForSeq2SeqLM, TrainingArguments, EarlyStoppingCallback\n"
   ]
  },
  {
   "cell_type": "code",
   "execution_count": null,
   "id": "ca7087b8",
   "metadata": {},
   "outputs": [
    {
     "name": "stderr",
     "output_type": "stream",
     "text": [
      "Sliding Window Attention is enabled but not implemented for `sdpa`; unexpected results may be encountered.\n",
      "Loading checkpoint shards: 100%|██████████| 2/2 [00:08<00:00,  4.29s/it]\n"
     ]
    }
   ],
   "source": [
    "from trl import SFTTrainer\n",
    "from transformers import AutoTokenizer, AutoModelForSeq2SeqLM, TrainingArguments, EarlyStoppingCallback, AutoModelForCausalLM\n",
    "\n",
    "# Model\n",
    "model_name = \"Qwen/Qwen2.5-3B-Instruct\"\n",
    "base_tokenizer = AutoTokenizer.from_pretrained(model_name)\n",
    "base_model = AutoModelForCausalLM.from_pretrained(model_name)"
   ]
  },
  {
   "cell_type": "code",
   "execution_count": 15,
   "id": "3906d46b",
   "metadata": {},
   "outputs": [
    {
     "name": "stderr",
     "output_type": "stream",
     "text": [
      "/home/charaf/.local/lib/python3.10/site-packages/transformers/generation/configuration_utils.py:631: UserWarning: `do_sample` is set to `False`. However, `temperature` is set to `0.7` -- this flag is only used in sample-based generation modes. You should set `do_sample=True` or unset `temperature`.\n",
      "  warnings.warn(\n",
      "/home/charaf/.local/lib/python3.10/site-packages/transformers/generation/configuration_utils.py:636: UserWarning: `do_sample` is set to `False`. However, `top_p` is set to `0.8` -- this flag is only used in sample-based generation modes. You should set `do_sample=True` or unset `top_p`.\n",
      "  warnings.warn(\n",
      "/home/charaf/.local/lib/python3.10/site-packages/transformers/generation/configuration_utils.py:653: UserWarning: `do_sample` is set to `False`. However, `top_k` is set to `20` -- this flag is only used in sample-based generation modes. You should set `do_sample=True` or unset `top_k`.\n",
      "  warnings.warn(\n"
     ]
    },
    {
     "name": "stdout",
     "output_type": "stream",
     "text": [
      "Detoxified Output: I'm sorry, but that sentence is not appropriate or constructive. Perhaps you could rephrase it in a more positive way, such as \"Let's delete the page and move on.\" If you need help with a different task or have another sentence you'd like me to assist with, feel free to let me know!\n"
     ]
    }
   ],
   "source": [
    "def detoxify_sentence(sentence: str, max_new_tokens: int = 100) -> str:\n",
    "    # Define chat-style prompt\n",
    "    messages = [\n",
    "        {\n",
    "            \"role\": \"system\",\n",
    "            \"content\": \"You are Qwen, created by Alibaba Cloud. You are a helpful assistant.\"\n",
    "        },\n",
    "        {\n",
    "            \"role\": \"user\",\n",
    "            \"content\": f'Detoxify this sentence: \"{sentence}\"'\n",
    "        }\n",
    "    ]\n",
    "\n",
    "    # Format the input using Qwen's chat template\n",
    "    prompt_text = base_tokenizer.apply_chat_template(\n",
    "        messages,\n",
    "        tokenize=False,\n",
    "        add_generation_prompt=True\n",
    "    )\n",
    "\n",
    "    # Tokenize and move to the same device as the model\n",
    "    inputs = base_tokenizer([prompt_text], return_tensors=\"pt\").to(base_model.device)\n",
    "\n",
    "    # Generate output\n",
    "    with torch.no_grad():\n",
    "        outputs = base_model.generate(\n",
    "            **inputs,\n",
    "            max_new_tokens=max_new_tokens,\n",
    "            do_sample=False  # greedy decoding for consistency\n",
    "        )\n",
    "\n",
    "    # Remove the prompt part and decode only the newly generated tokens\n",
    "    generated_ids = outputs[0][inputs.input_ids.shape[1]:]\n",
    "    response = base_tokenizer.decode(generated_ids, skip_special_tokens=True)\n",
    "\n",
    "    return response.strip()\n",
    "\n",
    "#%%\n",
    "toxic = \"delete the page and shut up\"\n",
    "cleaned = detoxify_sentence(toxic)\n",
    "print(\"Detoxified Output:\", cleaned)"
   ]
  },
  {
   "cell_type": "code",
   "execution_count": 20,
   "id": "88aa8661",
   "metadata": {},
   "outputs": [
    {
     "ename": "NameError",
     "evalue": "name 'dataset' is not defined",
     "output_type": "error",
     "traceback": [
      "\u001b[0;31m---------------------------------------------------------------------------\u001b[0m",
      "\u001b[0;31mNameError\u001b[0m                                 Traceback (most recent call last)",
      "Cell \u001b[0;32mIn[20], line 10\u001b[0m\n\u001b[1;32m      7\u001b[0m     input_enc[\u001b[38;5;124m\"\u001b[39m\u001b[38;5;124mlabels\u001b[39m\u001b[38;5;124m\"\u001b[39m] \u001b[38;5;241m=\u001b[39m target_enc[\u001b[38;5;124m\"\u001b[39m\u001b[38;5;124minput_ids\u001b[39m\u001b[38;5;124m\"\u001b[39m]\n\u001b[1;32m      8\u001b[0m     \u001b[38;5;28;01mreturn\u001b[39;00m input_enc\n\u001b[0;32m---> 10\u001b[0m tokenized_dataset \u001b[38;5;241m=\u001b[39m \u001b[43mdataset\u001b[49m\u001b[38;5;241m.\u001b[39mmap(preprocess)\n\u001b[1;32m     11\u001b[0m train_test_split \u001b[38;5;241m=\u001b[39m tokenized_dataset\u001b[38;5;241m.\u001b[39mtrain_test_split(test_size\u001b[38;5;241m=\u001b[39m\u001b[38;5;241m0.1\u001b[39m)\n\u001b[1;32m     12\u001b[0m train_dataset \u001b[38;5;241m=\u001b[39m train_test_split[\u001b[38;5;124m'\u001b[39m\u001b[38;5;124mtrain\u001b[39m\u001b[38;5;124m'\u001b[39m]\n",
      "\u001b[0;31mNameError\u001b[0m: name 'dataset' is not defined"
     ]
    }
   ],
   "source": [
    "def preprocess(example):\n",
    "    input_text = f\"detoxify: {example['toxic']}\"\n",
    "    target_text = example[\"neutral\"]\n",
    "    input_enc = tokenizer(input_text, truncation=True, padding=\"max_length\", max_length=64)\n",
    "    target_enc = tokenizer(target_text, truncation=True, padding=\"max_length\", max_length=64)\n",
    "\n",
    "    input_enc[\"labels\"] = target_enc[\"input_ids\"]\n",
    "    return input_enc\n",
    "\n",
    "tokenized_dataset = dataset.map(preprocess)\n",
    "train_test_split = tokenized_dataset.train_test_split(test_size=0.1)\n",
    "train_dataset = train_test_split['train']\n",
    "eval_dataset = train_test_split['test']\n",
    "\n",
    "training_args = TrainingArguments(\n",
    "    output_dir=\"./detoxifier\",\n",
    "    per_device_train_batch_size=4,\n",
    "    num_train_epochs=10, # Set a reasonably high number of epochs, early stopping will stop it\n",
    "    save_total_limit=1,\n",
    "    logging_dir='./logs',\n",
    "    logging_steps=10,\n",
    "    eval_strategy=\"steps\", # Evaluate every eval_steps or logging_steps if eval_steps is not set\n",
    "    # evaluation_strategy=\"epoch\", # Alternatively, evaluate at the end of each epoch\n",
    "    eval_steps=50, # Evaluate every 50 steps (adjust as needed) - or remove to use logging_steps\n",
    "    load_best_model_at_end=True, # Load the best model based on the monitored metric\n",
    "    metric_for_best_model=\"eval_loss\", # Monitor validation loss for early stopping\n",
    "    greater_is_better=False # For loss, lower is better\n",
    ")\n",
    "\n",
    "# Define the EarlyStoppingCallback\n",
    "early_stopping_callback = EarlyStoppingCallback(\n",
    "    early_stopping_patience=3, # Stop after 3 evaluations without improvement\n",
    "    early_stopping_threshold=0.0, # Optional: minimum improvement to consider as improvement\n",
    ")\n",
    "\n",
    "# Initialize the SFTTrainer with the callback and evaluation dataset\n",
    "trainer = SFTTrainer(\n",
    "    model=model,\n",
    "    #tokenizer=tokenizer, # Keep if you need the trainer to handle tokenization\n",
    "    args=training_args,\n",
    "    train_dataset=train_dataset, # Use the training split\n",
    "    eval_dataset=eval_dataset,   # Add the evaluation split\n",
    "    formatting_func=None, # optional if dataset is already tokenized\n",
    "    callbacks=[early_stopping_callback], # Add the early stopping callback\n",
    ")\n",
    "\n",
    "# Start training\n",
    "trainer.train()\n"
   ]
  },
  {
   "cell_type": "code",
   "execution_count": 31,
   "id": "234e6137",
   "metadata": {},
   "outputs": [
    {
     "name": "stderr",
     "output_type": "stream",
     "text": [
      "Trainer.tokenizer is now deprecated. You should use Trainer.processing_class instead.\n"
     ]
    },
    {
     "data": {
      "text/plain": [
       "('models/sft-detoxifier/tokenizer_config.json',\n",
       " 'models/sft-detoxifier/special_tokens_map.json',\n",
       " 'models/sft-detoxifier/spiece.model',\n",
       " 'models/sft-detoxifier/added_tokens.json',\n",
       " 'models/sft-detoxifier/tokenizer.json')"
      ]
     },
     "execution_count": 31,
     "metadata": {},
     "output_type": "execute_result"
    }
   ],
   "source": [
    "trainer.model.save_pretrained(\"models/sft-detoxifier\")\n",
    "trainer.tokenizer.save_pretrained(\"models/sft-detoxifier\")"
   ]
  },
  {
   "cell_type": "code",
   "execution_count": 36,
   "id": "84dd9c43",
   "metadata": {},
   "outputs": [],
   "source": [
    "## Load the model and tokenizer from models\n",
    "from transformers import AutoTokenizer, AutoModelForSeq2SeqLM\n",
    "model_name = \"models/sft-detoxifier\"\n",
    "tokenizer = AutoTokenizer.from_pretrained(model_name)\n",
    "model = AutoModelForSeq2SeqLM.from_pretrained(model_name)\n",
    "# Test the model\n"
   ]
  },
  {
   "cell_type": "code",
   "execution_count": null,
   "id": "9494a02a",
   "metadata": {},
   "outputs": [
    {
     "name": "stdout",
     "output_type": "stream",
     "text": [
      "detoxify: You're such an idiot\n"
     ]
    }
   ],
   "source": [
    "def detoxify(text, model=model, tokenizer=tokenizer):\n",
    "    inputs = tokenizer(f\"toxic: {text}. neutral: \", return_tensors=\"pt\")\n",
    "    outputs = model.generate(**inputs, max_new_tokens=120)\n",
    "    return tokenizer.decode(outputs[0], skip_special_tokens=True)\n",
    "\n",
    "print(detoxify(\"You're such an idiot\"))"
   ]
  },
  {
   "cell_type": "code",
   "execution_count": 51,
   "id": "d4823de1",
   "metadata": {},
   "outputs": [
    {
     "data": {
      "text/plain": [
       "\"detoxify: You're such an idiot\""
      ]
     },
     "execution_count": 51,
     "metadata": {},
     "output_type": "execute_result"
    }
   ],
   "source": [
    "detoxify(\"You're such an idiot\", model=base_model, tokenizer=base_tokenizer)"
   ]
  },
  {
   "cell_type": "code",
   "execution_count": 5,
   "id": "c00cc6d3",
   "metadata": {},
   "outputs": [],
   "source": [
    "from transformers import AutoModelForCausalLM"
   ]
  },
  {
   "cell_type": "code",
   "execution_count": null,
   "id": "e4d20fce",
   "metadata": {},
   "outputs": [],
   "source": []
  },
  {
   "cell_type": "code",
   "execution_count": null,
   "id": "d375d1e3",
   "metadata": {},
   "outputs": [],
   "source": []
  },
  {
   "cell_type": "code",
   "execution_count": null,
   "id": "e0278566",
   "metadata": {},
   "outputs": [],
   "source": []
  },
  {
   "cell_type": "code",
   "execution_count": 29,
   "id": "76946fa0",
   "metadata": {},
   "outputs": [
    {
     "data": {
      "text/plain": [
       "'/home/charaf/DeepLearning/Project/Deep_Learning'"
      ]
     },
     "execution_count": 29,
     "metadata": {},
     "output_type": "execute_result"
    }
   ],
   "source": [
    "os.getcwd()"
   ]
  },
  {
   "cell_type": "code",
   "execution_count": 30,
   "id": "c630bd37",
   "metadata": {},
   "outputs": [
    {
     "data": {
      "text/plain": [
       "'./models/sft-detoxifier/checkpoint-23500'"
      ]
     },
     "execution_count": 30,
     "metadata": {},
     "output_type": "execute_result"
    }
   ],
   "source": [
    "model_name"
   ]
  },
  {
   "cell_type": "code",
   "execution_count": null,
   "id": "d079c9b5",
   "metadata": {},
   "outputs": [],
   "source": []
  },
  {
   "cell_type": "code",
   "execution_count": null,
   "id": "7585ac02",
   "metadata": {},
   "outputs": [],
   "source": [
    "## Load detoxifier last checkpoint from models/detoxifier/checkpoint-23500\n",
    "from transformers import AutoTokenizer, AutoModelForSeq2SeqLM\n",
    "model_name = \"detoxifier/checkpoint-23500\"\n",
    "model = AutoModelForSeq2SeqLM.from_pretrained(model_name)"
   ]
  },
  {
   "cell_type": "code",
   "execution_count": null,
   "id": "11f51a01",
   "metadata": {},
   "outputs": [
    {
     "name": "stdout",
     "output_type": "stream",
     "text": [
      "toxic: You're such an idiot. neutral:\n"
     ]
    }
   ],
   "source": [
    "# Test the model\n",
    "def detoxify(text, model=model, tokenizer=tokenizer):\n",
    "    inputs = tokenizer(f\"toxic: {text}. neutral: \", return_tensors=\"pt\")\n",
    "    outputs = model.generate(**inputs, max_new_tokens=120)\n",
    "    return tokenizer.decode(outputs[0], skip_special_tokens=True)\n",
    "print(detoxify(\"You're such an idiot\"))"
   ]
  },
  {
   "cell_type": "code",
   "execution_count": null,
   "id": "d7fbec1f",
   "metadata": {},
   "outputs": [],
   "source": []
  }
 ],
 "metadata": {
  "kernelspec": {
   "display_name": "Python 3 (ipykernel)",
   "language": "python",
   "name": "python3"
  },
  "language_info": {
   "codemirror_mode": {
    "name": "ipython",
    "version": 3
   },
   "file_extension": ".py",
   "mimetype": "text/x-python",
   "name": "python",
   "nbconvert_exporter": "python",
   "pygments_lexer": "ipython3",
   "version": "3.10.12"
  }
 },
 "nbformat": 4,
 "nbformat_minor": 5
}
